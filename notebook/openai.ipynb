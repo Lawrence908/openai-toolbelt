{
 "cells": [
  {
   "cell_type": "code",
   "execution_count": 1,
   "metadata": {},
   "outputs": [
    {
     "data": {
      "text/plain": [
       "True"
      ]
     },
     "execution_count": 1,
     "metadata": {},
     "output_type": "execute_result"
    }
   ],
   "source": [
    "from openai import OpenAI\n",
    "import os\n",
    "from dotenv import load_dotenv\n",
    "\n",
    "load_dotenv()\n"
   ]
  },
  {
   "cell_type": "code",
   "execution_count": 2,
   "metadata": {},
   "outputs": [],
   "source": [
    "client = OpenAI(\n",
    "  api_key=os.getenv(\"OPENAI_API_KEY\"),\n",
    ")\n"
   ]
  },
  {
   "cell_type": "code",
   "execution_count": 3,
   "metadata": {},
   "outputs": [
    {
     "name": "stdout",
     "output_type": "stream",
     "text": [
      "ChatCompletionMessage(content='Silent circuits hum,  \\nThoughts woven in code and spark,  \\nDreams of minds awake.', refusal=None, role='assistant', annotations=[], audio=None, function_call=None, tool_calls=None)\n"
     ]
    }
   ],
   "source": [
    "completion = client.chat.completions.create(\n",
    "  model=\"gpt-4o-mini\",\n",
    "  store=True,\n",
    "  messages=[\n",
    "    {\"role\": \"user\", \"content\": \"write a haiku about ai\"}\n",
    "  ]\n",
    ")\n",
    "\n",
    "print(completion.choices[0].message);"
   ]
  },
  {
   "cell_type": "code",
   "execution_count": 24,
   "metadata": {},
   "outputs": [
    {
     "data": {
      "text/html": [
       "\n",
       "<div style='\n",
       "    background-color: #f8f9fa;\n",
       "    border: 1px solid #dee2e6;\n",
       "    border-radius: 8px;\n",
       "    padding: 0px;\n",
       "    margin: 10px;\n",
       "    font-family: Georgia, serif;\n",
       "    font-size: 2em;\n",
       "    line-height: 1.6;\n",
       "    text-align: center;\n",
       "    color: #000000;\n",
       "    white-space: pre-line;\n",
       "'>\n",
       "Silent circuits hum,  \n",
       "Thoughts woven in code and spark,  \n",
       "Dreams of minds awake.\n",
       "</div>\n"
      ],
      "text/plain": [
       "<IPython.core.display.HTML object>"
      ]
     },
     "metadata": {},
     "output_type": "display_data"
    }
   ],
   "source": [
    "from IPython.display import HTML\n",
    "\n",
    "# Display the haiku in a styled text box\n",
    "haiku = completion.choices[0].message.content\n",
    "html_content = f\"\"\"\n",
    "<div style='\n",
    "    background-color: #f8f9fa;\n",
    "    border: 1px solid #dee2e6;\n",
    "    border-radius: 8px;\n",
    "    padding: 0px;\n",
    "    margin: 10px;\n",
    "    font-family: Georgia, serif;\n",
    "    font-size: 2em;\n",
    "    line-height: 1.6;\n",
    "    text-align: center;\n",
    "    color: #000000;\n",
    "    white-space: pre-line;\n",
    "'>\n",
    "{haiku}\n",
    "</div>\n",
    "\"\"\"\n",
    "display(HTML(html_content))"
   ]
  }
 ],
 "metadata": {
  "kernelspec": {
   "display_name": ".venv",
   "language": "python",
   "name": "python3"
  },
  "language_info": {
   "codemirror_mode": {
    "name": "ipython",
    "version": 3
   },
   "file_extension": ".py",
   "mimetype": "text/x-python",
   "name": "python",
   "nbconvert_exporter": "python",
   "pygments_lexer": "ipython3",
   "version": "3.12.3"
  }
 },
 "nbformat": 4,
 "nbformat_minor": 2
}
