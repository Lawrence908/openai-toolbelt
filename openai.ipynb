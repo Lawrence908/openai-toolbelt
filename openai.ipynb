{
 "cells": [
  {
   "cell_type": "code",
   "execution_count": 1,
   "metadata": {},
   "outputs": [
    {
     "data": {
      "text/plain": [
       "True"
      ]
     },
     "execution_count": 1,
     "metadata": {},
     "output_type": "execute_result"
    }
   ],
   "source": [
    "from openai import OpenAI\n",
    "import os\n",
    "from dotenv import load_dotenv\n",
    "\n",
    "from IPython.display import HTML\n",
    "\n",
    "load_dotenv()\n"
   ]
  },
  {
   "cell_type": "code",
   "execution_count": 2,
   "metadata": {},
   "outputs": [],
   "source": [
    "client = OpenAI(\n",
    "  api_key=os.getenv(\"OPENAI_API_KEY\"),\n",
    ")\n"
   ]
  },
  {
   "cell_type": "code",
   "execution_count": 3,
   "metadata": {},
   "outputs": [
    {
     "name": "stdout",
     "output_type": "stream",
     "text": [
      "ChatCompletionMessage(content='Wires hum softly clear,  \\nThoughts woven in code and light,  \\nMind of our design.', refusal=None, role='assistant', annotations=[], audio=None, function_call=None, tool_calls=None)\n"
     ]
    }
   ],
   "source": [
    "completion = client.chat.completions.create(\n",
    "  model=\"gpt-4o-mini\",\n",
    "  store=True,\n",
    "  messages=[\n",
    "    {\"role\": \"user\", \"content\": \"write a haiku about ai\"}\n",
    "  ]\n",
    ")\n",
    "\n",
    "print(completion.choices[0].message);"
   ]
  },
  {
   "cell_type": "code",
   "execution_count": 4,
   "metadata": {},
   "outputs": [
    {
     "data": {
      "text/html": [
       "\n",
       "<div style='\n",
       "    background-color: #f8f9fa;\n",
       "    border: 1px solid #dee2e6;\n",
       "    border-radius: 8px;\n",
       "    padding: 0px;\n",
       "    margin: 10px;\n",
       "    font-family: Georgia, serif;\n",
       "    font-size: 2em;\n",
       "    line-height: 1.6;\n",
       "    text-align: center;\n",
       "    color: #000000;\n",
       "    white-space: pre-line;\n",
       "'>\n",
       "Wires hum softly clear,  \n",
       "Thoughts woven in code and light,  \n",
       "Mind of our design.\n",
       "</div>\n"
      ],
      "text/plain": [
       "<IPython.core.display.HTML object>"
      ]
     },
     "metadata": {},
     "output_type": "display_data"
    }
   ],
   "source": [
    "\n",
    "\n",
    "# Display the haiku in a styled text box\n",
    "haiku = completion.choices[0].message.content\n",
    "html_content = f\"\"\"\n",
    "<div style='\n",
    "    background-color: #f8f9fa;\n",
    "    border: 1px solid #dee2e6;\n",
    "    border-radius: 8px;\n",
    "    padding: 0px;\n",
    "    margin: 10px;\n",
    "    font-family: Georgia, serif;\n",
    "    font-size: 2em;\n",
    "    line-height: 1.6;\n",
    "    text-align: center;\n",
    "    color: #000000;\n",
    "    white-space: pre-line;\n",
    "'>\n",
    "{haiku}\n",
    "</div>\n",
    "\"\"\"\n",
    "display(HTML(html_content))"
   ]
  },
  {
   "cell_type": "code",
   "execution_count": 7,
   "metadata": {},
   "outputs": [],
   "source": [
    "from openai_toolbelt.models import ChatMessage, ChatResponse, OpenAIConfig\n",
    "from openai_toolbelt.client import OpenAIClient\n",
    "\n",
    "# Initialize the client\n",
    "client = OpenAIClient()"
   ]
  },
  {
   "cell_type": "code",
   "execution_count": 8,
   "metadata": {},
   "outputs": [
    {
     "ename": "NameError",
     "evalue": "name 'Role' is not defined",
     "output_type": "error",
     "traceback": [
      "\u001b[31m---------------------------------------------------------------------------\u001b[39m",
      "\u001b[31mNameError\u001b[39m                                 Traceback (most recent call last)",
      "\u001b[36mCell\u001b[39m\u001b[36m \u001b[39m\u001b[32mIn[8]\u001b[39m\u001b[32m, line 3\u001b[39m\n\u001b[32m      1\u001b[39m \u001b[38;5;66;03m# Create a simple chat message\u001b[39;00m\n\u001b[32m      2\u001b[39m messages = [\n\u001b[32m----> \u001b[39m\u001b[32m3\u001b[39m     ChatMessage(role=\u001b[43mRole\u001b[49m.USER, content=\u001b[33m\"\u001b[39m\u001b[33mWrite a short poem about programming\u001b[39m\u001b[33m\"\u001b[39m)\n\u001b[32m      4\u001b[39m ]\n\u001b[32m      6\u001b[39m \u001b[38;5;66;03m# Get the response\u001b[39;00m\n\u001b[32m      7\u001b[39m response = client.chat(messages=messages)\n",
      "\u001b[31mNameError\u001b[39m: name 'Role' is not defined"
     ]
    }
   ],
   "source": [
    "# Create a simple chat message\n",
    "messages = [\n",
    "    ChatMessage(role=Role.USER, content=\"Write a short poem about programming\")\n",
    "]\n",
    "\n",
    "# Get the response\n",
    "response = client.chat(messages=messages)\n",
    "print(f\"Response: {response.content}\")\n",
    "print(f\"Model used: {response.model}\")\n",
    "print(f\"Cost: ${response.cost_usd:.4f}\")\n",
    "print(f\"Token usage: {response.usage}\")"
   ]
  },
  {
   "cell_type": "code",
   "execution_count": null,
   "metadata": {},
   "outputs": [],
   "source": [
    "messages = [\n",
    "    ChatMessage(\n",
    "        role=Role.SYSTEM,\n",
    "        content=\"You are a helpful programming assistant that specializes in Python.\"\n",
    "    ),\n",
    "    ChatMessage(\n",
    "        role=Role.USER,\n",
    "        content=\"What's the best way to handle exceptions in Python?\"\n",
    "    )\n",
    "]\n",
    "\n",
    "response = client.chat(messages=messages)\n",
    "print(f\"\\nResponse: {response.content}\")\n",
    "print(f\"Cost: ${response.cost_usd:.4f}\")"
   ]
  },
  {
   "cell_type": "code",
   "execution_count": null,
   "metadata": {},
   "outputs": [],
   "source": [
    "messages = [\n",
    "    ChatMessage(\n",
    "        role=Role.USER,\n",
    "        content=\"Explain quantum computing in simple terms\"\n",
    "    )\n",
    "]\n",
    "\n",
    "# Try with GPT-4 and lower temperature for more focused response\n",
    "response = client.chat(\n",
    "    messages=messages,\n",
    "    model=\"gpt-4\",\n",
    "    temperature=0.3\n",
    ")\n",
    "print(f\"\\nResponse: {response.content}\")\n",
    "print(f\"Model: {response.model}\")\n",
    "print(f\"Cost: ${response.cost_usd:.4f}\")"
   ]
  },
  {
   "cell_type": "code",
   "execution_count": null,
   "metadata": {},
   "outputs": [],
   "source": [
    "messages = [\n",
    "    ChatMessage(\n",
    "        role=Role.USER,\n",
    "        content=\"Write a story about a robot learning to paint\"\n",
    "    )\n",
    "]\n",
    "\n",
    "# Get streaming response\n",
    "responses = client.chat(\n",
    "    messages=messages,\n",
    "    stream=True\n",
    ")\n",
    "\n",
    "print(\"\\nStreaming response:\")\n",
    "for chunk in responses:\n",
    "    print(chunk.content, end=\"\", flush=True)\n",
    "print(\"\\n\")"
   ]
  }
 ],
 "metadata": {
  "kernelspec": {
   "display_name": ".venv",
   "language": "python",
   "name": "python3"
  },
  "language_info": {
   "codemirror_mode": {
    "name": "ipython",
    "version": 3
   },
   "file_extension": ".py",
   "mimetype": "text/x-python",
   "name": "python",
   "nbconvert_exporter": "python",
   "pygments_lexer": "ipython3",
   "version": "3.12.3"
  }
 },
 "nbformat": 4,
 "nbformat_minor": 2
}
